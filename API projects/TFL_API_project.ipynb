{
 "cells": [
  {
   "cell_type": "markdown",
   "metadata": {},
   "source": [
    "# **Mini-Project I**\n",
    "For this project I practiced handling of complex lists and dictionaries in Python. Also, by answering very specific transportation questions, learned how to navigate through an API documentation to make the correct resquets [**documentation**](https://api.tfl.gov.uk/swagger/ui/index.html?url=/swagger/docs/v1#!/AccidentStats/AccidentStats_Get).\n"
   ]
  },
  {
   "cell_type": "code",
   "execution_count": 1,
   "metadata": {},
   "outputs": [],
   "source": [
    "import requests\n",
    "import json\n",
    "import os"
   ]
  },
  {
   "cell_type": "markdown",
   "metadata": {},
   "source": [
    "## **Grabbing foursquare api key and id from bash profile**"
   ]
  },
  {
   "cell_type": "code",
   "execution_count": 2,
   "metadata": {
    "tags": []
   },
   "outputs": [],
   "source": [
    "# don't forget package os\n",
    "app_id = os.environ[\"app_id\"]\n",
    "app_key = os.environ[\"app_key\"]\n",
    "url_append = f'?app_id={app_id}&app_key={app_key}' "
   ]
  },
  {
   "cell_type": "code",
   "execution_count": 3,
   "metadata": {},
   "outputs": [
    {
     "name": "stdout",
     "output_type": "stream",
     "text": [
      "https://api.tfl.gov.uk/AirQuality?app_id=e0938d95391d465fb9be5ae179be2e5c&app_key=aae04a1ef67b491fa360b1c107e5cda1\n"
     ]
    }
   ],
   "source": [
    "# URL\n",
    "url = \"https://api.tfl.gov.uk/AirQuality\"\n",
    "print(url+url_append)"
   ]
  },
  {
   "cell_type": "code",
   "execution_count": 4,
   "metadata": {},
   "outputs": [],
   "source": [
    "# Sent send the request to the API using formatted string containing the imported api key and id\n",
    "res = requests.get(url+url_append)"
   ]
  },
  {
   "cell_type": "code",
   "execution_count": 5,
   "metadata": {},
   "outputs": [
    {
     "data": {
      "text/plain": [
       "200"
      ]
     },
     "execution_count": 5,
     "metadata": {},
     "output_type": "execute_result"
    }
   ],
   "source": [
    "# We can check if the request was successful (http protocol of 200 refers to a successful api request)\n",
    "res.status_code"
   ]
  },
  {
   "cell_type": "code",
   "execution_count": 6,
   "metadata": {},
   "outputs": [],
   "source": [
    "# We can export the information that was returned using method .json()\n",
    "air_json = res.json()"
   ]
  },
  {
   "cell_type": "code",
   "execution_count": 8,
   "metadata": {},
   "outputs": [],
   "source": [
    "#print(json.dumps(air_json, indent=2))"
   ]
  },
  {
   "cell_type": "markdown",
   "metadata": {},
   "source": [
    "## **Task 1**\n",
    "### Determining the AirQuality predictions for the coming day"
   ]
  },
  {
   "cell_type": "code",
   "execution_count": 9,
   "metadata": {},
   "outputs": [],
   "source": [
    "#checking for the current forecast key in the air quality JSON, appending the result to some empty list\n",
    "summary = []\n",
    "for i in air_json[\"currentForecast\"]:\n",
    "    summary.append(i[\"forecastSummary\"])\n",
    "    break"
   ]
  },
  {
   "cell_type": "code",
   "execution_count": 10,
   "metadata": {},
   "outputs": [
    {
     "name": "stdout",
     "output_type": "stream",
     "text": [
      "['Low air pollution forecast valid from Tuesday 8 June to end of Wednesday 9 June GMT']\n"
     ]
    }
   ],
   "source": [
    "print(summary)"
   ]
  },
  {
   "cell_type": "markdown",
   "metadata": {},
   "source": [
    "## **Task 2**\n",
    "### Finding out different modes of  transport which are operated by Transfer for London. Must determine not only how many of modes do they have but check whether the modes are still in service\n"
   ]
  },
  {
   "cell_type": "code",
   "execution_count": 13,
   "metadata": {},
   "outputs": [],
   "source": [
    "#using the Journey documentation section, found the meta modes section was where the number of transport modes in London could be found\n",
    "url_2 = \"https://api.tfl.gov.uk/Journey/meta/modes\"\n",
    "re2 = requests.get(url_2)\n",
    "\n",
    "transportation_json = re2.json()"
   ]
  },
  {
   "cell_type": "code",
   "execution_count": 160,
   "metadata": {},
   "outputs": [
    {
     "name": "stdout",
     "output_type": "stream",
     "text": [
      "['bus', 'cable-car', 'cycle-hire', 'dlr', 'overground', 'replacement-bus', 'river-bus', 'river-tour', 'tflrail', 'tram', 'tube']\n"
     ]
    },
    {
     "data": {
      "text/plain": [
       "'There exists 11 modes of transpotation in London'"
      ]
     },
     "execution_count": 160,
     "metadata": {},
     "output_type": "execute_result"
    }
   ],
   "source": [
    "#Must check the condition that the avalaible mode is still running (the boolean value of the key isTflService), and then can append said methods into a empty list\n",
    "transportation_list = []\n",
    "for i in transportation_json:\n",
    "    if i['isTflService'] == True:\n",
    "        transportation_list.append(i['modeName'])\n",
    "\n",
    "print(transportation_list)\n",
    "\"There exists {} modes of transpotation in London\".format(len(transportation_list))"
   ]
  },
  {
   "cell_type": "markdown",
   "metadata": {},
   "source": [
    "## **Task 3**\n",
    "### How many BikePoints in London are operated by Transfor for London? How many docks are in **all** BikePoints? There is the information for empty and full docks for each BikePoint."
   ]
  },
  {
   "cell_type": "code",
   "execution_count": 11,
   "metadata": {},
   "outputs": [],
   "source": [
    "#no special parameters required for this http requests URL\n",
    "re3 = requests.get('https://api.tfl.gov.uk/BikePoint')\n",
    "bike_json = re3.json()\n",
    "\n",
    "#bike_json, commented out as api set back an extremely long JSON"
   ]
  },
  {
   "cell_type": "code",
   "execution_count": 150,
   "metadata": {},
   "outputs": [
    {
     "data": {
      "text/plain": [
       "'The number of bike points operated in London: 788'"
      ]
     },
     "execution_count": 150,
     "metadata": {},
     "output_type": "execute_result"
    }
   ],
   "source": [
    "\"The number of bike points operated in London: {}\".format(len(bike_json))"
   ]
  },
  {
   "cell_type": "markdown",
   "metadata": {},
   "source": [
    "## **Task 4**\n",
    "### Figuring out how many tube and bus lines are in London ###"
   ]
  },
  {
   "cell_type": "code",
   "execution_count": 114,
   "metadata": {},
   "outputs": [],
   "source": [
    "#two seperate htttp requests, one for bus and tube. Both from the line \"module\" of TfL\n",
    "re4 = requests.get('https://api.tfl.gov.uk/Line/Mode/bus')\n",
    "bus_json = re4.json()\n",
    "\n",
    "\n",
    "re5 = requests.get('https://api.tfl.gov.uk/Line/Mode/tube')\n",
    "tubes_json = re5.json()"
   ]
  },
  {
   "cell_type": "code",
   "execution_count": 115,
   "metadata": {},
   "outputs": [
    {
     "name": "stdout",
     "output_type": "stream",
     "text": [
      "679\n"
     ]
    }
   ],
   "source": [
    "#iterated through the bus json file referencing all values with the key of 'name' due to the fact that we were asked to get the names of all London bus names, found bus names were characters combined with integers so decided to just return \n",
    "#number of bus' present  \n",
    "amount_of_buses = len(bus_json)\n",
    "busNames = []\n",
    "\n",
    "for i in bus_json:\n",
    "    busNames.append(i['name'])\n",
    "\n",
    "print(len(set(busNames))) #ensured only unique bus names are printed by explicity casting the list to be a set"
   ]
  },
  {
   "cell_type": "code",
   "execution_count": null,
   "metadata": {},
   "outputs": [],
   "source": [
    "tubes_json"
   ]
  },
  {
   "cell_type": "code",
   "execution_count": 155,
   "metadata": {},
   "outputs": [
    {
     "name": "stdout",
     "output_type": "stream",
     "text": [
      "Bakerloo\n",
      "Central\n",
      "Circle\n",
      "District\n",
      "Hammersmith & City\n",
      "Jubilee\n",
      "Metropolitan\n",
      "Northern\n",
      "Piccadilly\n",
      "Victoria\n",
      "Waterloo & City\n"
     ]
    }
   ],
   "source": [
    "#iterated through the tubes json file refencing all values with the key of 'name' due to the fact that we were asked to get the names of all London tubes\n",
    "amount_of_tubes = len(tubes_json)\n",
    "\n",
    "for j in tubes_json:\n",
    "    print (j['name'])#returned the number of tubes as they are all nice names compared difficult to interpret numbers\n",
    "    "
   ]
  },
  {
   "cell_type": "markdown",
   "metadata": {},
   "source": [
    "## **Task 5**\n",
    "### For the tube `victoria` line, finding out how many stations exist ###"
   ]
  },
  {
   "cell_type": "code",
   "execution_count": 156,
   "metadata": {},
   "outputs": [],
   "source": [
    "re5 = requests.get('https://api.tfl.gov.uk/Line/Victoria/StopPoints')\n",
    "victoria_json = re5.json()\n",
    "#print(json.dumps(victoria_json, indent=2))"
   ]
  },
  {
   "cell_type": "code",
   "execution_count": 157,
   "metadata": {},
   "outputs": [
    {
     "name": "stdout",
     "output_type": "stream",
     "text": [
      "16\n"
     ]
    }
   ],
   "source": [
    "print(len(victoria_json))"
   ]
  },
  {
   "cell_type": "markdown",
   "metadata": {},
   "source": [
    "## **Task 6**\n",
    "### Planned a journey from Heathrow Airport to Tower Bridge via Bus and Tube, utilizing the api to figure out which method is faster?###\n"
   ]
  },
  {
   "cell_type": "code",
   "execution_count": 127,
   "metadata": {},
   "outputs": [],
   "source": [
    "re6 = requests.get('https://api.tfl.gov.uk/Journey/JourneyResults/51.4700%2C20-0.4543/to/51.5055%2C20-0.0754?mode=tube')\n",
    "re7 = requests.get('https://api.tfl.gov.uk/Journey/JourneyResults/51.4700%2C20-0.4543/to/51.5055%2C20-0.0754?mode=bus')"
   ]
  },
  {
   "cell_type": "code",
   "execution_count": 129,
   "metadata": {},
   "outputs": [],
   "source": [
    "tube_json = re6.json()\n",
    "bus_json = re7.json()"
   ]
  },
  {
   "cell_type": "code",
   "execution_count": 148,
   "metadata": {},
   "outputs": [
    {
     "name": "stdout",
     "output_type": "stream",
     "text": [
      "The Tube had a quicker route to Heathrow Aiport by a difference of 16 minutes\n",
      "[107, 99, 102]\n",
      "[320, 86, 83]\n"
     ]
    }
   ],
   "source": [
    "time_difference = 0\n",
    "if (re6.status_code & re7.status_code) == 200:\n",
    "    bus_journey = bus_json['journeys']\n",
    "    tube_journey = tube_json['journeys']\n",
    "    bus_time = [] \n",
    "    tube_time = []\n",
    "    \n",
    "    for i in bus_journey:\n",
    "        bus_time.append(i.get('duration'))\n",
    "    \n",
    "    for j in tube_journey:\n",
    "        tube_time.append(j.get('duration'))\n",
    "        \n",
    "\n",
    "    if min(bus_time) < min(tube_time):\n",
    "        time_difference = min(tube_time) - min(bus_time)\n",
    "        print(\"The Bus had a quicker route to Heathrow Aiport by a difference of {} minutes\".format(time_difference))\n",
    "    \n",
    "    elif min(tube_time) < min(bus_time):\n",
    "        time_difference = min(bus_time) - min(tube_time)\n",
    "        print(\"The Tube had a quicker route to Heathrow Aiport by a difference of {} minutes\".format(time_difference))\n",
    "    \n",
    "    else:\n",
    "        print(\"Both methods are equally fast!\")\n",
    "              \n",
    "print(bus_time)\n",
    "print(tube_time)\n"
   ]
  }
 ],
 "metadata": {
  "kernelspec": {
   "display_name": "arjun_LHL_env",
   "language": "python",
   "name": "arjun_lhl_env"
  },
  "language_info": {
   "codemirror_mode": {
    "name": "ipython",
    "version": 3
   },
   "file_extension": ".py",
   "mimetype": "text/x-python",
   "name": "python",
   "nbconvert_exporter": "python",
   "pygments_lexer": "ipython3",
   "version": "3.6.13"
  }
 },
 "nbformat": 4,
 "nbformat_minor": 4
}
