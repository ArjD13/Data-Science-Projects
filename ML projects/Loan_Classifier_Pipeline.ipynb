{
 "cells": [
  {
   "cell_type": "markdown",
   "id": "31f1656e-a718-435c-85c7-ba231668cc1c",
   "metadata": {},
   "source": [
    "## 5. Using Pipeline\n",
    "Generating categorical and numeric feature pipelines that will transform the data prep, provide feat. engineering and lastly modeling steps. Again, the goal here is to create the pipeline that will take one row of our dataset and predict the probability of being granted a loan.\n",
    "\n",
    "`pipeline.predict(x)`"
   ]
  },
  {
   "cell_type": "code",
   "execution_count": 389,
   "id": "e4be42a8-680d-432b-a977-4c85b2f4bfa2",
   "metadata": {},
   "outputs": [],
   "source": [
    "import pandas as pd\n",
    "import cufflinks as cf\n",
    "import plotly.express as px\n",
    "import numpy as np\n",
    "from matplotlib import pyplot as plt\n",
    "from matplotlib.ticker import StrMethodFormatter\n",
    "import seaborn as sns\n",
    "import plotly.graph_objs as go\n",
    "import plotly.io as pio\n",
    "from sklearn.feature_selection import SelectKBest\n",
    "from sklearn.ensemble import RandomForestClassifier\n",
    "from sklearn.model_selection import train_test_split\n",
    "from sklearn.preprocessing import LabelEncoder\n",
    "from sklearn.ensemble import RandomForestClassifier\n",
    "from sklearn.linear_model import LogisticRegression\n",
    "from sklearn.naive_bayes import GaussianNB\n",
    "from sklearn.ensemble import GradientBoostingClassifier\n",
    "from sklearn import svm\n",
    "from sklearn.model_selection import GridSearchCV\n",
    "from sklearn.metrics import accuracy_score\n",
    "from sklearn.metrics import roc_auc_score, confusion_matrix\n",
    "from sklearn.metrics import plot_confusion_matrix\n",
    "from sklearn.metrics import classification_report\n",
    "from sklearn.metrics import precision_score\n",
    "from sklearn.metrics import recall_score\n",
    "from sklearn.metrics import f1_score\n",
    "from sklearn.metrics import plot_roc_curve\n",
    "from sklearn.utils import shuffle\n",
    "from sklearn.preprocessing import OneHotEncoder\n",
    "from sklearn.preprocessing import LabelEncoder\n",
    "from sklearn.preprocessing import StandardScaler, RobustScaler, QuantileTransformer\n",
    "from sklearn.preprocessing import FunctionTransformer\n",
    "import pickle \n",
    "from sklearn.svm import SVC\n",
    "from sklearn.impute import SimpleImputer\n",
    "from sklearn.pipeline import Pipeline, FeatureUnion\n",
    "from sklearn.preprocessing import MinMaxScaler\n",
    "from sklearn.preprocessing import OrdinalEncoder\n",
    "import requests\n",
    "from sklearn.preprocessing import  RobustScaler\n",
    "import warnings\n",
    "warnings.filterwarnings('ignore')"
   ]
  },
  {
   "cell_type": "code",
   "execution_count": 342,
   "id": "44c07b92-e808-4780-9d6b-7d8cfa856909",
   "metadata": {},
   "outputs": [],
   "source": [
    "df = pd.read_csv(\"data.csv\") "
   ]
  },
  {
   "cell_type": "markdown",
   "id": "50159136-bb98-4711-a48e-b1094a92dd9d",
   "metadata": {},
   "source": [
    "### Function that automates training and metric process for each classifier"
   ]
  },
  {
   "cell_type": "code",
   "execution_count": 343,
   "id": "2fae078e-f26f-48d8-bfb9-fd12b5e295d4",
   "metadata": {},
   "outputs": [],
   "source": [
    "def evaluate(model, X_train_, X_test_, y_train_, y_test_):\n",
    "    y_pred = model.predict(X_test_)\n",
    "    y_train_pred = model.predict(X_train_)\n",
    "\n",
    "    test_acc = model.score(X_test_, y_test_)\n",
    "    train_acc = model.score(X_train_, y_train_)\n",
    "    print('Train accuracy:', train_acc)\n",
    "    print('Test accuracy:', test_acc)\n",
    "\n",
    "    train_probs = model.predict_proba(X_train_)[:,1]\n",
    "    train_auc = roc_auc_score(y_train_,train_probs)\n",
    "    print('Train auc:', train_auc)\n",
    "    test_probs = model.predict_proba(X_test_)[:,1]\n",
    "    test_auc = roc_auc_score(y_test_,test_probs)\n",
    "    print('Test auc:', test_auc)\n",
    "\n",
    "    train_precision = precision_score(y_train_, y_train_pred)\n",
    "    test_precision = precision_score(y_test_, y_pred)\n",
    "    print('Train precision:', train_precision)\n",
    "    print('Test precision:', test_precision)\n",
    "\n",
    "    train_recall = recall_score(y_train_, y_train_pred)\n",
    "    test_recall = recall_score(y_test_, y_pred)\n",
    "    print('Train recall:', train_recall)\n",
    "    print('Test recall:', test_recall)\n",
    "\n",
    "    train_f1 = f1_score(y_train_, y_train_pred)\n",
    "    test_f1 = f1_score(y_test_, y_pred)\n",
    "    print('F1 score train:', train_f1)\n",
    "    print('F1 score test:', test_f1)\n",
    "\n",
    "    cr = classification_report(y_test_,y_pred)\n",
    "    print(cr)\n",
    "\n",
    "    plot_confusion_matrix(model, X_test_, y_test_)\n",
    "\n",
    "    plot_roc_curve(estimator=model, X=X_test_, y=y_test_)"
   ]
  },
  {
   "cell_type": "code",
   "execution_count": 344,
   "id": "cf07f98a-b8d0-4b47-8ffe-41386129f9f5",
   "metadata": {},
   "outputs": [],
   "source": [
    "def credit_to_obj(data):\n",
    "    data['Credit_History'] = data.Credit_History.astype('object')\n",
    "    return data\n",
    "credit_object = FunctionTransformer(credit_to_obj)"
   ]
  },
  {
   "cell_type": "code",
   "execution_count": 345,
   "id": "77e17fdc-b206-4118-9aa8-0e63796afa98",
   "metadata": {},
   "outputs": [],
   "source": [
    "# creat function to select categorical and continuous variables\n",
    "\n",
    "def num_Feats(data):\n",
    "    return data[num_feats]\n",
    "\n",
    "def cat_Feats(data):\n",
    "    return data[cat_feats]\n",
    "\n",
    "# we will start two separate pipelines for each type of features\n",
    "keep_num = FunctionTransformer(num_Feats)\n",
    "keep_cat = FunctionTransformer(cat_Feats)\n"
   ]
  },
  {
   "cell_type": "code",
   "execution_count": 346,
   "id": "a9e975bd-5bce-430f-aeef-58f0e8abd9ee",
   "metadata": {},
   "outputs": [],
   "source": [
    "# SimpleImputer for num_cols\n",
    "num_imputer = SimpleImputer(missing_values=np.nan, strategy='median')\n",
    "\n",
    "# SimpleImputer for cat_cols\n",
    "cat_imputer = SimpleImputer(missing_values=np.nan, strategy='constant', fill_value='unknown')"
   ]
  },
  {
   "cell_type": "code",
   "execution_count": 347,
   "id": "6bd6db23-51f2-4f8a-8069-ec8aa286f40a",
   "metadata": {},
   "outputs": [],
   "source": [
    "# create new numeric features total_income, loan_ratio, loan_term_ratio\n",
    "def create_total_income(data):\n",
    "    data['total_income'] = data['ApplicantIncome'] + data['CoapplicantIncome']\n",
    "    data['total_income']= data['total_income'].apply(np.log)\n",
    "    return data\n",
    "create_total = FunctionTransformer(create_total_income)\n",
    "\n",
    "# def create_loan_ratio(data):\n",
    "#     data['Loan_Amount_Ratio'] = data['LoanAmount'] / data['total_income']\n",
    "#     return data\n",
    "# Loam_Amount_Ratio = FunctionTransformer(create_loan_ratio)\n",
    "\n",
    "# def create_term_ratio(data):\n",
    "#     data['Loan_Amount_Term_ratio'] = data['LoanAmount'] / data['Loan_Amount_Term']\n",
    "# Loan_Term_Ratio = FunctionTransformer(create_term_ratio)"
   ]
  },
  {
   "cell_type": "code",
   "execution_count": 348,
   "id": "16ff6541-e90c-42f7-a785-1ecf1653d2d3",
   "metadata": {},
   "outputs": [],
   "source": [
    "#log transform Totalamount and total_income\n",
    "def log_transform(data):\n",
    "    data_df = pd.DataFrame(data)\n",
    "    data_df.iloc[:,9] = data_df.iloc[:,9].apply(np.log)\n",
    "    data_np = data_df.to_numpy()\n",
    "    return data_np\n",
    "\n",
    "logs = FunctionTransformer(log_transform)"
   ]
  },
  {
   "cell_type": "code",
   "execution_count": 349,
   "id": "f41c23d3-65ea-4454-84fe-7460e43accc0",
   "metadata": {},
   "outputs": [],
   "source": [
    "Ordinal_encoder =  OrdinalEncoder()\n",
    "scaler = MinMaxScaler(feature_range=(0,1))"
   ]
  },
  {
   "cell_type": "markdown",
   "id": "51835b48-d198-43c1-959d-0242372229af",
   "metadata": {},
   "source": [
    "### Proprecessing pipelines"
   ]
  },
  {
   "cell_type": "code",
   "execution_count": 350,
   "id": "2061328e-46f0-4d0c-9249-389be3345919",
   "metadata": {},
   "outputs": [],
   "source": [
    "\n",
    "cat_preprocessing = Pipeline(steps=[('credit',credit_object),\n",
    "                                    ('cat_feats_filter',keep_cat),\n",
    "                                    ('cat_null_transform',cat_imputer),\n",
    "                                    ('encode',Ordinal_encoder)\n",
    "                                   ])\n",
    "\n",
    "num_preprocessing = Pipeline(steps=[('nums',keep_num),\n",
    "                                   ('income',create_total),\n",
    "                                    ('num_nulls', num_imputer),\n",
    "                                    ('Scale',scaler)\n",
    "                                   ])\n"
   ]
  },
  {
   "cell_type": "code",
   "execution_count": 351,
   "id": "88f6d8e3-398c-4d60-9af4-6b6c561b2f8d",
   "metadata": {},
   "outputs": [],
   "source": [
    "# combine features back together\n",
    "values_union = FeatureUnion([\n",
    "    ('cat_cols', cat_preprocessing),\n",
    "    ('num_cols', num_preprocessing),\n",
    "])"
   ]
  },
  {
   "cell_type": "markdown",
   "id": "43cc100f-2ecb-4a80-8332-3c25f18cd204",
   "metadata": {},
   "source": [
    "### Pipeline Prediciton"
   ]
  },
  {
   "cell_type": "code",
   "execution_count": 352,
   "id": "9f17f4b8-436a-453d-bc16-c59842aca0cb",
   "metadata": {},
   "outputs": [],
   "source": [
    "label = LabelEncoder()\n",
    "X = df.drop(columns=['Loan_Status','Loan_ID'],axis=1)\n",
    "y = df.Loan_Status\n",
    "y = label.fit_transform(y)\n",
    "cat_feats = X.select_dtypes('object').columns.tolist()\n",
    "num_feats = X.select_dtypes(['int','float']).columns.tolist()"
   ]
  },
  {
   "cell_type": "code",
   "execution_count": 353,
   "id": "c17a5b96-0ded-4804-a97a-431013483a52",
   "metadata": {},
   "outputs": [],
   "source": [
    "X_train, X_test, y_train, y_test = train_test_split(X,y,train_size=0.8,random_state=22)"
   ]
  },
  {
   "cell_type": "code",
   "execution_count": 354,
   "id": "d48fe541-5314-48f0-9c59-3295c0e54108",
   "metadata": {},
   "outputs": [
    {
     "data": {
      "text/plain": [
       "array([['Male', 'No', '0', ..., 360.0, 1.0, 'Semiurban'],\n",
       "       ['Male', 'Yes', '0', ..., 360.0, 1.0, 'Urban'],\n",
       "       ['Male', 'Yes', '1', ..., 360.0, nan, 'Rural'],\n",
       "       ...,\n",
       "       ['Male', 'No', '0', ..., 360.0, 1.0, 'Rural'],\n",
       "       ['Male', 'Yes', '0', ..., 360.0, 1.0, 'Rural'],\n",
       "       ['Male', 'No', '0', ..., 360.0, 1.0, 'Semiurban']], dtype=object)"
      ]
     },
     "execution_count": 354,
     "metadata": {},
     "output_type": "execute_result"
    }
   ],
   "source": [
    "X_train.to_numpy()\n",
    "X_test.to_numpy()"
   ]
  },
  {
   "cell_type": "markdown",
   "id": "5a175362-b069-4ea3-9bd4-110d810d91b5",
   "metadata": {},
   "source": [
    "### Logistic Regression"
   ]
  },
  {
   "cell_type": "code",
   "execution_count": 355,
   "id": "f61bb23f-67a8-49b6-a604-26b7e1736063",
   "metadata": {},
   "outputs": [],
   "source": [
    "model = LogisticRegression()\n",
    "base_pipeline = Pipeline(\n",
    "    steps=[\n",
    "    ('values', values_union),\n",
    "    ('classifier', model)\n",
    "])"
   ]
  },
  {
   "cell_type": "code",
   "execution_count": 356,
   "id": "7122148a-81bc-44d5-a7a0-8eac4384cb09",
   "metadata": {},
   "outputs": [
    {
     "data": {
      "text/plain": [
       "Pipeline(steps=[('values',\n",
       "                 FeatureUnion(transformer_list=[('cat_cols',\n",
       "                                                 Pipeline(steps=[('credit',\n",
       "                                                                  FunctionTransformer(func=<function credit_to_obj at 0x7f9aeb92bae8>)),\n",
       "                                                                 ('cat_feats_filter',\n",
       "                                                                  FunctionTransformer(func=<function cat_Feats at 0x7f9aeb968488>)),\n",
       "                                                                 ('cat_null_transform',\n",
       "                                                                  SimpleImputer(fill_value='unknown',\n",
       "                                                                                strategy='constant')),\n",
       "                                                                 ('encode',\n",
       "                                                                  OrdinalEncoder())])),\n",
       "                                                ('num_cols',\n",
       "                                                 Pipeline(steps=[('nums',\n",
       "                                                                  FunctionTransformer(func=<function num_Feats at 0x7f9aeb968598>)),\n",
       "                                                                 ('income',\n",
       "                                                                  FunctionTransformer(func=<function create_total_income at 0x7f9aeb968620>)),\n",
       "                                                                 ('num_nulls',\n",
       "                                                                  SimpleImputer(strategy='median')),\n",
       "                                                                 ('Scale',\n",
       "                                                                  MinMaxScaler())]))])),\n",
       "                ('classifier', LogisticRegression())])"
      ]
     },
     "execution_count": 356,
     "metadata": {},
     "output_type": "execute_result"
    }
   ],
   "source": [
    "# fit pipeline\n",
    "base_pipeline.fit(X_train, y_train)"
   ]
  },
  {
   "cell_type": "code",
   "execution_count": 357,
   "id": "82f14134-a9cf-4bb6-bfbd-d16c6318a9a5",
   "metadata": {},
   "outputs": [
    {
     "name": "stdout",
     "output_type": "stream",
     "text": [
      "Train accuracy: 0.8044806517311609\n",
      "Test accuracy: 0.8292682926829268\n",
      "Train auc: 0.7825540472599295\n",
      "Test auc: 0.732905982905983\n",
      "Train precision: 0.7880952380952381\n",
      "Test precision: 0.8\n",
      "Train recall: 0.9792899408284024\n",
      "Test recall: 1.0\n",
      "F1 score train: 0.8733509234828496\n",
      "F1 score test: 0.888888888888889\n",
      "              precision    recall  f1-score   support\n",
      "\n",
      "           0       1.00      0.46      0.63        39\n",
      "           1       0.80      1.00      0.89        84\n",
      "\n",
      "    accuracy                           0.83       123\n",
      "   macro avg       0.90      0.73      0.76       123\n",
      "weighted avg       0.86      0.83      0.81       123\n",
      "\n"
     ]
    },
    {
     "data": {
      "image/png": "[encoded data removed]",
      "text/plain": [
       "<Figure size 432x288 with 2 Axes>"
      ]
     },
     "metadata": {
      "needs_background": "light"
     },
     "output_type": "display_data"
    },
    {
     "data": {
      "image/png": "[encoded data removed]",
      "text/plain": [
       "<Figure size 432x288 with 1 Axes>"
      ]
     },
     "metadata": {
      "needs_background": "light"
     },
     "output_type": "display_data"
    }
   ],
   "source": [
    "evaluate(base_pipeline, X_train, X_test, y_train, y_test)"
   ]
  },
  {
   "cell_type": "markdown",
   "id": "01bba2c8-cecd-428f-8dda-fab1df60c110",
   "metadata": {},
   "source": [
    "### SVM Classifier"
   ]
  },
  {
   "cell_type": "code",
   "execution_count": 358,
   "id": "7ba02077-a89e-44ed-8d09-a66458f6f548",
   "metadata": {},
   "outputs": [
    {
     "data": {
      "text/plain": [
       "Pipeline(steps=[('values',\n",
       "                 FeatureUnion(transformer_list=[('cat_cols',\n",
       "                                                 Pipeline(steps=[('credit',\n",
       "                                                                  FunctionTransformer(func=<function credit_to_obj at 0x7f9aeb92bae8>)),\n",
       "                                                                 ('cat_feats_filter',\n",
       "                                                                  FunctionTransformer(func=<function cat_Feats at 0x7f9aeb968488>)),\n",
       "                                                                 ('cat_null_transform',\n",
       "                                                                  SimpleImputer(fill_value='unknown',\n",
       "                                                                                strategy='constant')),\n",
       "                                                                 ('encode',\n",
       "                                                                  OrdinalEncoder())])),\n",
       "                                                ('num_cols',\n",
       "                                                 Pipeline(steps=[('nums',\n",
       "                                                                  FunctionTransformer(func=<function num_Feats at 0x7f9aeb968598>)),\n",
       "                                                                 ('income',\n",
       "                                                                  FunctionTransformer(func=<function create_total_income at 0x7f9aeb968620>)),\n",
       "                                                                 ('num_nulls',\n",
       "                                                                  SimpleImputer(strategy='median')),\n",
       "                                                                 ('Scale',\n",
       "                                                                  MinMaxScaler())]))])),\n",
       "                ('classifier', SVC(probability=True))])"
      ]
     },
     "execution_count": 358,
     "metadata": {},
     "output_type": "execute_result"
    }
   ],
   "source": [
    "model = SVC(probability=True)\n",
    "\n",
    "base_pipeline = Pipeline(\n",
    "    steps=[\n",
    "    ('values', values_union),\n",
    "    ('classifier', model)\n",
    "])\n",
    "\n",
    "# fit pipeline\n",
    "base_pipeline.fit(X_train, y_train)"
   ]
  },
  {
   "cell_type": "code",
   "execution_count": 359,
   "id": "9195b2cc-41a9-404d-ad29-465ee1858e0f",
   "metadata": {},
   "outputs": [
    {
     "name": "stdout",
     "output_type": "stream",
     "text": [
      "Train accuracy: 0.8065173116089613\n",
      "Test accuracy: 0.8292682926829268\n",
      "Train auc: 0.8416096221526086\n",
      "Test auc: 0.7518315018315019\n",
      "Train precision: 0.7899761336515513\n",
      "Test precision: 0.8\n",
      "Train recall: 0.9792899408284024\n",
      "Test recall: 1.0\n",
      "F1 score train: 0.8745046235138705\n",
      "F1 score test: 0.888888888888889\n",
      "              precision    recall  f1-score   support\n",
      "\n",
      "           0       1.00      0.46      0.63        39\n",
      "           1       0.80      1.00      0.89        84\n",
      "\n",
      "    accuracy                           0.83       123\n",
      "   macro avg       0.90      0.73      0.76       123\n",
      "weighted avg       0.86      0.83      0.81       123\n",
      "\n"
     ]
    },
    {
     "data": {
      "image/png": "[encoded data removed]",
      "text/plain": [
       "<Figure size 432x288 with 2 Axes>"
      ]
     },
     "metadata": {
      "needs_background": "light"
     },
     "output_type": "display_data"
    },
    {
     "data": {
      "image/png": "[encoded data removed]",
      "text/plain": [
       "<Figure size 432x288 with 1 Axes>"
      ]
     },
     "metadata": {
      "needs_background": "light"
     },
     "output_type": "display_data"
    }
   ],
   "source": [
    "evaluate(base_pipeline, X_train, X_test, y_train, y_test)"
   ]
  },
  {
   "cell_type": "markdown",
   "id": "f41f18fd-0162-46f7-b58b-ccc0c9f9fad0",
   "metadata": {},
   "source": [
    "### Naive Bayes"
   ]
  },
  {
   "cell_type": "code",
   "execution_count": 360,
   "id": "b37b0119-09a1-425a-be39-b5419451faa8",
   "metadata": {},
   "outputs": [
    {
     "data": {
      "text/plain": [
       "Pipeline(steps=[('values',\n",
       "                 FeatureUnion(transformer_list=[('cat_cols',\n",
       "                                                 Pipeline(steps=[('credit',\n",
       "                                                                  FunctionTransformer(func=<function credit_to_obj at 0x7f9aeb92bae8>)),\n",
       "                                                                 ('cat_feats_filter',\n",
       "                                                                  FunctionTransformer(func=<function cat_Feats at 0x7f9aeb968488>)),\n",
       "                                                                 ('cat_null_transform',\n",
       "                                                                  SimpleImputer(fill_value='unknown',\n",
       "                                                                                strategy='constant')),\n",
       "                                                                 ('encode',\n",
       "                                                                  OrdinalEncoder())])),\n",
       "                                                ('num_cols',\n",
       "                                                 Pipeline(steps=[('nums',\n",
       "                                                                  FunctionTransformer(func=<function num_Feats at 0x7f9aeb968598>)),\n",
       "                                                                 ('income',\n",
       "                                                                  FunctionTransformer(func=<function create_total_income at 0x7f9aeb968620>)),\n",
       "                                                                 ('num_nulls',\n",
       "                                                                  SimpleImputer(strategy='median')),\n",
       "                                                                 ('Scale',\n",
       "                                                                  MinMaxScaler())]))])),\n",
       "                ('classifier', GaussianNB())])"
      ]
     },
     "execution_count": 360,
     "metadata": {},
     "output_type": "execute_result"
    }
   ],
   "source": [
    "model = GaussianNB()\n",
    "\n",
    "base_pipeline = Pipeline(\n",
    "    steps=[\n",
    "    ('values', values_union),\n",
    "    ('classifier', model)\n",
    "])\n",
    "\n",
    "# fit pipeline\n",
    "base_pipeline.fit(X_train, y_train)"
   ]
  },
  {
   "cell_type": "code",
   "execution_count": 361,
   "id": "9be39f15-238c-478a-bf2b-d1dde6cceda3",
   "metadata": {},
   "outputs": [
    {
     "name": "stdout",
     "output_type": "stream",
     "text": [
      "Train accuracy: 0.7983706720977597\n",
      "Test accuracy: 0.8048780487804879\n",
      "Train auc: 0.7766368874966161\n",
      "Test auc: 0.7667887667887668\n",
      "Train precision: 0.7980049875311721\n",
      "Test precision: 0.7941176470588235\n",
      "Train recall: 0.9467455621301775\n",
      "Test recall: 0.9642857142857143\n",
      "F1 score train: 0.8660351826792962\n",
      "F1 score test: 0.8709677419354839\n",
      "              precision    recall  f1-score   support\n",
      "\n",
      "           0       0.86      0.46      0.60        39\n",
      "           1       0.79      0.96      0.87        84\n",
      "\n",
      "    accuracy                           0.80       123\n",
      "   macro avg       0.83      0.71      0.74       123\n",
      "weighted avg       0.81      0.80      0.79       123\n",
      "\n"
     ]
    },
    {
     "data": {
      "image/png": "[encoded data removed]",
      "text/plain": [
       "<Figure size 432x288 with 2 Axes>"
      ]
     },
     "metadata": {
      "needs_background": "light"
     },
     "output_type": "display_data"
    },
    {
     "data": {
      "image/png": "[encoded data removed]",
      "text/plain": [
       "<Figure size 432x288 with 1 Axes>"
      ]
     },
     "metadata": {
      "needs_background": "light"
     },
     "output_type": "display_data"
    }
   ],
   "source": [
    "evaluate(base_pipeline, X_train, X_test, y_train, y_test)"
   ]
  },
  {
   "cell_type": "markdown",
   "id": "d51cc48f-78de-49ca-bed0-6420736ca519",
   "metadata": {},
   "source": [
    "### Random Forest"
   ]
  },
  {
   "cell_type": "code",
   "execution_count": 362,
   "id": "de3b0147-b7ee-489c-9443-0bcdc9a57ae6",
   "metadata": {},
   "outputs": [
    {
     "data": {
      "text/plain": [
       "Pipeline(steps=[('values',\n",
       "                 FeatureUnion(transformer_list=[('cat_cols',\n",
       "                                                 Pipeline(steps=[('credit',\n",
       "                                                                  FunctionTransformer(func=<function credit_to_obj at 0x7f9aeb92bae8>)),\n",
       "                                                                 ('cat_feats_filter',\n",
       "                                                                  FunctionTransformer(func=<function cat_Feats at 0x7f9aeb968488>)),\n",
       "                                                                 ('cat_null_transform',\n",
       "                                                                  SimpleImputer(fill_value='unknown',\n",
       "                                                                                strategy='constant')),\n",
       "                                                                 ('encode',\n",
       "                                                                  OrdinalEncoder())])),\n",
       "                                                ('num_cols',\n",
       "                                                 Pipeline(steps=[('nums',\n",
       "                                                                  FunctionTransformer(func=<function num_Feats at 0x7f9aeb968598>)),\n",
       "                                                                 ('income',\n",
       "                                                                  FunctionTransformer(func=<function create_total_income at 0x7f9aeb968620>)),\n",
       "                                                                 ('num_nulls',\n",
       "                                                                  SimpleImputer(strategy='median')),\n",
       "                                                                 ('Scale',\n",
       "                                                                  MinMaxScaler())]))])),\n",
       "                ('classifier', RandomForestClassifier())])"
      ]
     },
     "execution_count": 362,
     "metadata": {},
     "output_type": "execute_result"
    }
   ],
   "source": [
    "model = RandomForestClassifier()\n",
    "\n",
    "base_pipeline = Pipeline(\n",
    "    steps=[\n",
    "    ('values', values_union),\n",
    "    ('classifier', model)\n",
    "])\n",
    "\n",
    "# fit pipeline\n",
    "base_pipeline.fit(X_train, y_train)"
   ]
  },
  {
   "cell_type": "code",
   "execution_count": 363,
   "id": "8fde201f-3514-4f46-982a-c25ed0ef5e20",
   "metadata": {},
   "outputs": [
    {
     "name": "stdout",
     "output_type": "stream",
     "text": [
      "Train accuracy: 1.0\n",
      "Test accuracy: 0.7723577235772358\n",
      "Train auc: 1.0\n",
      "Test auc: 0.7994505494505494\n",
      "Train precision: 1.0\n",
      "Test precision: 0.7978723404255319\n",
      "Train recall: 1.0\n",
      "Test recall: 0.8928571428571429\n",
      "F1 score train: 1.0\n",
      "F1 score test: 0.8426966292134832\n",
      "              precision    recall  f1-score   support\n",
      "\n",
      "           0       0.69      0.51      0.59        39\n",
      "           1       0.80      0.89      0.84        84\n",
      "\n",
      "    accuracy                           0.77       123\n",
      "   macro avg       0.74      0.70      0.72       123\n",
      "weighted avg       0.76      0.77      0.76       123\n",
      "\n"
     ]
    },
    {
     "data": {
      "image/png": "[encoded data removed]",
      "text/plain": [
       "<Figure size 432x288 with 2 Axes>"
      ]
     },
     "metadata": {
      "needs_background": "light"
     },
     "output_type": "display_data"
    },
    {
     "data": {
      "image/png": "[encoded data removed]",
      "text/plain": [
       "<Figure size 432x288 with 1 Axes>"
      ]
     },
     "metadata": {
      "needs_background": "light"
     },
     "output_type": "display_data"
    }
   ],
   "source": [
    "evaluate(base_pipeline, X_train, X_test, y_train, y_test)"
   ]
  },
  {
   "cell_type": "markdown",
   "id": "9eef618d-aae6-45fd-8c27-748b994bc7e2",
   "metadata": {},
   "source": [
    "### Gradient Boosting Classifier"
   ]
  },
  {
   "cell_type": "code",
   "execution_count": 366,
   "id": "b1720255-fe42-476a-9ab9-278d581dd9aa",
   "metadata": {},
   "outputs": [
    {
     "data": {
      "text/plain": [
       "Pipeline(steps=[('values',\n",
       "                 FeatureUnion(transformer_list=[('cat_cols',\n",
       "                                                 Pipeline(steps=[('credit',\n",
       "                                                                  FunctionTransformer(func=<function credit_to_obj at 0x7f9aeb92bae8>)),\n",
       "                                                                 ('cat_feats_filter',\n",
       "                                                                  FunctionTransformer(func=<function cat_Feats at 0x7f9aeb968488>)),\n",
       "                                                                 ('cat_null_transform',\n",
       "                                                                  SimpleImputer(fill_value='unknown',\n",
       "                                                                                strategy='constant')),\n",
       "                                                                 ('encode',\n",
       "                                                                  OrdinalEncoder())])),\n",
       "                                                ('num_cols',\n",
       "                                                 Pipeline(steps=[('nums',\n",
       "                                                                  FunctionTransformer(func=<function num_Feats at 0x7f9aeb968598>)),\n",
       "                                                                 ('income',\n",
       "                                                                  FunctionTransformer(func=<function create_total_income at 0x7f9aeb968620>)),\n",
       "                                                                 ('num_nulls',\n",
       "                                                                  SimpleImputer(strategy='median')),\n",
       "                                                                 ('Scale',\n",
       "                                                                  MinMaxScaler())]))])),\n",
       "                ('classifier', GradientBoostingClassifier())])"
      ]
     },
     "execution_count": 366,
     "metadata": {},
     "output_type": "execute_result"
    }
   ],
   "source": [
    "model = GradientBoostingClassifier()\n",
    "\n",
    "base_pipeline = Pipeline(\n",
    "    steps=[\n",
    "    ('values', values_union),\n",
    "    ('classifier', model)\n",
    "])\n",
    "\n",
    "# fit pipeline\n",
    "base_pipeline.fit(X_train, y_train)"
   ]
  },
  {
   "cell_type": "code",
   "execution_count": 367,
   "id": "fe9380b7-b1ee-4cde-ad9b-d6aee7dec450",
   "metadata": {},
   "outputs": [
    {
     "name": "stdout",
     "output_type": "stream",
     "text": [
      "Train accuracy: 0.9083503054989817\n",
      "Test accuracy: 0.8048780487804879\n",
      "Train auc: 0.9819584638589164\n",
      "Test auc: 0.7756410256410257\n",
      "Train precision: 0.8825065274151436\n",
      "Test precision: 0.8061224489795918\n",
      "Train recall: 1.0\n",
      "Test recall: 0.9404761904761905\n",
      "F1 score train: 0.9375866851595007\n",
      "F1 score test: 0.8681318681318683\n",
      "              precision    recall  f1-score   support\n",
      "\n",
      "           0       0.80      0.51      0.62        39\n",
      "           1       0.81      0.94      0.87        84\n",
      "\n",
      "    accuracy                           0.80       123\n",
      "   macro avg       0.80      0.73      0.75       123\n",
      "weighted avg       0.80      0.80      0.79       123\n",
      "\n"
     ]
    },
    {
     "data": {
      "image/png": "[encoded data removed]",
      "text/plain": [
       "<Figure size 432x288 with 2 Axes>"
      ]
     },
     "metadata": {
      "needs_background": "light"
     },
     "output_type": "display_data"
    },
    {
     "data": {
      "image/png": "[encoded data removed]",
      "text/plain": [
       "<Figure size 432x288 with 1 Axes>"
      ]
     },
     "metadata": {
      "needs_background": "light"
     },
     "output_type": "display_data"
    }
   ],
   "source": [
    "evaluate(base_pipeline, X_train, X_test, y_train, y_test)"
   ]
  },
  {
   "cell_type": "markdown",
   "id": "70be0818-13b3-4250-b0c3-156fdac669f3",
   "metadata": {},
   "source": [
    "### Feature Selection"
   ]
  },
  {
   "cell_type": "code",
   "execution_count": 369,
   "id": "e3d66f28-6b94-49b1-bc15-8052bd297bbc",
   "metadata": {},
   "outputs": [],
   "source": [
    "from sklearn.decomposition import PCA\n",
    "from sklearn.feature_selection import SelectKBest\n",
    "pca = PCA(n_components=5)\n",
    "kbest = SelectKBest(k=5)\n",
    "\n",
    "feature_union = FeatureUnion([\n",
    "    ('pca', pca),\n",
    "    ('select_best', kbest)\n",
    "])"
   ]
  },
  {
   "cell_type": "markdown",
   "id": "41fac7d3-1082-47cb-aaa7-1e5da7fda795",
   "metadata": {},
   "source": [
    "### Random Forest with Feature Selection"
   ]
  },
  {
   "cell_type": "code",
   "execution_count": 370,
   "id": "e80bea03-cb4e-4fbb-82f4-b1b6fbe9500f",
   "metadata": {},
   "outputs": [
    {
     "data": {
      "text/plain": [
       "Pipeline(steps=[('values',\n",
       "                 FeatureUnion(transformer_list=[('cat_cols',\n",
       "                                                 Pipeline(steps=[('credit',\n",
       "                                                                  FunctionTransformer(func=<function credit_to_obj at 0x7f9aeb92bae8>)),\n",
       "                                                                 ('cat_feats_filter',\n",
       "                                                                  FunctionTransformer(func=<function cat_Feats at 0x7f9aeb968488>)),\n",
       "                                                                 ('cat_null_transform',\n",
       "                                                                  SimpleImputer(fill_value='unknown',\n",
       "                                                                                strategy='constant')),\n",
       "                                                                 ('encode',\n",
       "                                                                  OrdinalEncoder()...\n",
       "                                                                  FunctionTransformer(func=<function num_Feats at 0x7f9aeb968598>)),\n",
       "                                                                 ('income',\n",
       "                                                                  FunctionTransformer(func=<function create_total_income at 0x7f9aeb968620>)),\n",
       "                                                                 ('num_nulls',\n",
       "                                                                  SimpleImputer(strategy='median')),\n",
       "                                                                 ('Scale',\n",
       "                                                                  MinMaxScaler())]))])),\n",
       "                ('features',\n",
       "                 FeatureUnion(transformer_list=[('pca', PCA(n_components=5)),\n",
       "                                                ('select_best',\n",
       "                                                 SelectKBest(k=5))])),\n",
       "                ('classifier', RandomForestClassifier())])"
      ]
     },
     "execution_count": 370,
     "metadata": {},
     "output_type": "execute_result"
    }
   ],
   "source": [
    "model = RandomForestClassifier()\n",
    "\n",
    "feat_pipeline = Pipeline(\n",
    "    steps=[\n",
    "    ('values', values_union),\n",
    "    ('features', feature_union),\n",
    "    ('classifier', model)\n",
    "])\n",
    "# fit pipeline\n",
    "feat_pipeline.fit(X_train, y_train)"
   ]
  },
  {
   "cell_type": "code",
   "execution_count": 371,
   "id": "f4cd389d-5193-43f2-bfbe-2d3645342d4c",
   "metadata": {},
   "outputs": [
    {
     "name": "stdout",
     "output_type": "stream",
     "text": [
      "Train accuracy: 1.0\n",
      "Test accuracy: 0.7479674796747967\n",
      "Train auc: 1.0\n",
      "Test auc: 0.7203907203907204\n",
      "Train precision: 1.0\n",
      "Test precision: 0.797752808988764\n",
      "Train recall: 1.0\n",
      "Test recall: 0.8452380952380952\n",
      "F1 score train: 1.0\n",
      "F1 score test: 0.8208092485549132\n",
      "              precision    recall  f1-score   support\n",
      "\n",
      "           0       0.62      0.54      0.58        39\n",
      "           1       0.80      0.85      0.82        84\n",
      "\n",
      "    accuracy                           0.75       123\n",
      "   macro avg       0.71      0.69      0.70       123\n",
      "weighted avg       0.74      0.75      0.74       123\n",
      "\n"
     ]
    },
    {
     "data": {
      "image/png": "[encoded data removed]",
      "text/plain": [
       "<Figure size 432x288 with 2 Axes>"
      ]
     },
     "metadata": {
      "needs_background": "light"
     },
     "output_type": "display_data"
    },
    {
     "data": {
      "image/png": "[encoded data removed]",
      "text/plain": [
       "<Figure size 432x288 with 1 Axes>"
      ]
     },
     "metadata": {
      "needs_background": "light"
     },
     "output_type": "display_data"
    }
   ],
   "source": [
    "evaluate(feat_pipeline, X_train, X_test, y_train, y_test)"
   ]
  },
  {
   "cell_type": "markdown",
   "id": "0e600f11-082d-48c5-a8af-9af9cb9efabf",
   "metadata": {},
   "source": [
    "### Grid Search with Random Forest"
   ]
  },
  {
   "cell_type": "code",
   "execution_count": 376,
   "id": "eb9b004a-7334-4d3b-a37e-3c7c684ca5a6",
   "metadata": {},
   "outputs": [],
   "source": [
    "# model = RandomForestClassifier()\n",
    "# scalers = [StandardScaler(), MinMaxScaler(), QuantileTransformer()]\n",
    "\n",
    "# base_pipeline = Pipeline(\n",
    "#     steps=[\n",
    "#     ('values', values_union),\n",
    "#     ('classifier', model)\n",
    "# ])\n",
    "\n",
    "# params = {\n",
    "#     'classifier__n_estimators': [15, 25, 50, 100],\n",
    "#     'classifier__max_depth': [3,4, 5],\n",
    "#     'classifier__random_state': [23],\n",
    "#     'values__num_cols__scale': scalers\n",
    "#     }\n",
    "\n",
    "# k_folds = 5\n",
    "\n",
    "# grid_search = GridSearchCV(base_pipeline, param_grid=params, verbose=1, refit=True, cv=k_folds)\n",
    "\n",
    "# # fit\n",
    "# grid_search.fit(X_train, y_train)"
   ]
  },
  {
   "cell_type": "code",
   "execution_count": 381,
   "id": "2bca27a1-3f90-451b-879a-295f6cec7c3f",
   "metadata": {},
   "outputs": [
    {
     "data": {
      "text/plain": [
       "Pipeline(steps=[('values',\n",
       "                 FeatureUnion(transformer_list=[('cat_cols',\n",
       "                                                 Pipeline(steps=[('credit',\n",
       "                                                                  FunctionTransformer(func=<function credit_to_obj at 0x7f9aeb92bae8>)),\n",
       "                                                                 ('cat_feats_filter',\n",
       "                                                                  FunctionTransformer(func=<function cat_Feats at 0x7f9aeb968488>)),\n",
       "                                                                 ('cat_null_transform',\n",
       "                                                                  SimpleImputer(fill_value='unknown',\n",
       "                                                                                strategy='constant')),\n",
       "                                                                 ('encode',\n",
       "                                                                  OrdinalEncoder())])),\n",
       "                                                ('num_cols',\n",
       "                                                 Pipeline(steps=[('nums',\n",
       "                                                                  FunctionTransformer(func=<function num_Feats at 0x7f9aeb968598>)),\n",
       "                                                                 ('income',\n",
       "                                                                  FunctionTransformer(func=<function create_total_income at 0x7f9aeb968620>)),\n",
       "                                                                 ('num_nulls',\n",
       "                                                                  SimpleImputer(strategy='median')),\n",
       "                                                                 ('Scale',\n",
       "                                                                  MinMaxScaler())]))])),\n",
       "                ('classifier', RandomForestClassifier())])"
      ]
     },
     "execution_count": 381,
     "metadata": {},
     "output_type": "execute_result"
    }
   ],
   "source": [
    "model = RandomForestClassifier()\n",
    "\n",
    "final_pipeline = Pipeline(\n",
    "    steps=[\n",
    "    ('values', values_union),\n",
    "    ('classifier', model)\n",
    "])\n",
    "\n",
    "# fit pipeline\n",
    "final_pipeline.fit(X_train, y_train)"
   ]
  },
  {
   "cell_type": "code",
   "execution_count": 382,
   "id": "5f6e127a-ab4b-4c8a-b2dc-c7fe1fb7fad6",
   "metadata": {},
   "outputs": [
    {
     "name": "stdout",
     "output_type": "stream",
     "text": [
      "Train accuracy: 1.0\n",
      "Test accuracy: 0.7723577235772358\n",
      "Train auc: 1.0\n",
      "Test auc: 0.8101343101343101\n",
      "Train precision: 1.0\n",
      "Test precision: 0.8043478260869565\n",
      "Train recall: 1.0\n",
      "Test recall: 0.8809523809523809\n",
      "F1 score train: 1.0\n",
      "F1 score test: 0.8409090909090908\n",
      "              precision    recall  f1-score   support\n",
      "\n",
      "           0       0.68      0.54      0.60        39\n",
      "           1       0.80      0.88      0.84        84\n",
      "\n",
      "    accuracy                           0.77       123\n",
      "   macro avg       0.74      0.71      0.72       123\n",
      "weighted avg       0.76      0.77      0.76       123\n",
      "\n"
     ]
    },
    {
     "data": {
      "image/png": "[encoded data removed]",
      "text/plain": [
       "<Figure size 432x288 with 2 Axes>"
      ]
     },
     "metadata": {
      "needs_background": "light"
     },
     "output_type": "display_data"
    },
    {
     "data": {
      "image/png": "[encoded data removed]",
      "text/plain": [
       "<Figure size 432x288 with 1 Axes>"
      ]
     },
     "metadata": {
      "needs_background": "light"
     },
     "output_type": "display_data"
    }
   ],
   "source": [
    "evaluate(final_pipeline, X_train, X_test, y_train, y_test)"
   ]
  },
  {
   "cell_type": "markdown",
   "id": "0d419b8a-d0e0-4c09-9b4c-69207fe6f6d7",
   "metadata": {},
   "source": [
    "### 6. Pickling the Random Forest Classifier to load via a .py file and create a web api that implements the model (sending api requests with PostMan)"
   ]
  },
  {
   "cell_type": "code",
   "execution_count": 385,
   "id": "5dbc054f-44ed-4215-8f5a-7300c6ac109f",
   "metadata": {},
   "outputs": [],
   "source": [
    "filename = 'projectIV_model.txt'\n",
    "pickle.dump(final_pipeline, open(filename, 'wb'))"
   ]
  },
  {
   "cell_type": "code",
   "execution_count": 386,
   "id": "d51a8380-404c-44c3-829c-f46f17eaefaa",
   "metadata": {},
   "outputs": [],
   "source": [
    "pickle_loaded = pickle.load(open(filename, 'rb'))"
   ]
  },
  {
   "cell_type": "code",
   "execution_count": 387,
   "id": "fac96e4f-c2fe-4efa-9d80-fb4a0c14105f",
   "metadata": {},
   "outputs": [],
   "source": [
    "pickle_pred = pickle_loaded.predict(X_test)"
   ]
  },
  {
   "cell_type": "code",
   "execution_count": 388,
   "id": "c969ef9d-1fc2-4410-9cd7-d2edbd806b28",
   "metadata": {},
   "outputs": [
    {
     "name": "stdout",
     "output_type": "stream",
     "text": [
      "0.7723577235772358\n"
     ]
    }
   ],
   "source": [
    "accuracy = accuracy_score(y_test, pickle_pred) \n",
    "print(accuracy) # pickle model working"
   ]
  },
  {
   "cell_type": "code",
   "execution_count": null,
   "id": "4080145a-c3a4-4ce6-9834-f7a82b8f93c1",
   "metadata": {},
   "outputs": [],
   "source": []
  }
 ],
 "metadata": {
  "kernelspec": {
   "display_name": "arjun_LHL_env",
   "language": "python",
   "name": "arjun_lhl_env"
  },
  "language_info": {
   "codemirror_mode": {
    "name": "ipython",
    "version": 3
   },
   "file_extension": ".py",
   "mimetype": "text/x-python",
   "name": "python",
   "nbconvert_exporter": "python",
   "pygments_lexer": "ipython3",
   "version": "3.6.13"
  }
 },
 "nbformat": 4,
 "nbformat_minor": 5
}
